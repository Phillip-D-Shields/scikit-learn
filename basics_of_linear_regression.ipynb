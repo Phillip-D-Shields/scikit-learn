{
 "cells": [
  {
   "cell_type": "markdown",
   "source": [
    "# basics of linear regression\n",
    "\n",
    "## regression mechanics\n",
    "\n",
    "### ``` y = ax + b ```\n",
    " simple linear regression uses one feature\n",
    " - y = target\n",
    " - x = single feature\n",
    " - a, b = params / coefficients of the model (slope, intercept)\n",
    "\n",
    " define an error function for any given line\n",
    " choose a line that minimizes error function\n",
    "### ```error function = loss function = cost function```\n",
    "\n",
    "---\n",
    "### loss function\n",
    "![loss function](loss_func.png)\n",
    "\n",
    "---\n",
    "### loss function with residuals\n",
    "![loss function with residuals](loss_func_with_residuals.png)\n",
    "simply adding the sum of the residuals could possibly cancel some values out\n",
    "so the residuals are squared, then added to equal residual sum of squares (RSS)\n",
    "\n",
    "---\n",
    "### rss\n",
    "![rss](rss.png)\n",
    "\n",
    "this is type of linear regression is known as ordinary least squares (OLS)\n",
    "\n",
    "---\n",
    "## multiple regression\n",
    "\n",
    "must specify coefficients for each feature and var b\n",
    "### ```y = a1x1 + a2x2 + ... + anxn + b```\n",
    "\n",
    "> #### scikit-learn works the same for single and multiple regressions, 2 arrays: features and target\n",
    "\n",
    "## r-squared\n",
    "quantifies the variance in target values determined by features"
   ],
   "metadata": {
    "collapsed": false
   }
  },
  {
   "cell_type": "markdown",
   "source": [
    "# fit and predict for regression\n",
    "\n",
    "## sales_df\n",
    "![sales_df](sales_df.png)"
   ],
   "metadata": {
    "collapsed": false
   }
  },
  {
   "cell_type": "code",
   "execution_count": null,
   "outputs": [],
   "source": [
    "# Create X and y arrays\n",
    "X = sales_df.drop(\"sales\", axis=1).values\n",
    "y = sales_df[\"sales\"].values\n",
    "\n",
    "X_train, X_test, y_train, y_test = train_test_split(X, y, test_size=0.3, random_state=42)\n",
    "\n",
    "# Instantiate the model\n",
    "reg = LinearRegression()\n",
    "\n",
    "# Fit the model to the data\n",
    "reg.fit(X_train, y_train)\n",
    "\n",
    "# Make predictions\n",
    "y_pred = reg.predict(X_test)\n",
    "print(\"Predictions: {}, Actual Values: {}\".format(y_pred[:2], y_test[:2]))"
   ],
   "metadata": {
    "collapsed": false
   }
  },
  {
   "cell_type": "markdown",
   "source": [
    "## regression performance"
   ],
   "metadata": {
    "collapsed": false
   }
  },
  {
   "cell_type": "code",
   "execution_count": null,
   "outputs": [],
   "source": [
    "# Import mean_squared_error\n",
    "from sklearn.metrics import mean_squared_error\n",
    "\n",
    "# Compute R-squared\n",
    "r_squared = reg.score( X_test, y_test)\n",
    "\n",
    "# Compute RMSE\n",
    "rmse = mean_squared_error(y_test, y_pred, squared=False)\n",
    "\n",
    "# Print the metrics\n",
    "print(\"R^2: {}\".format(r_squared))\n",
    "print(\"RMSE: {}\".format(rmse))"
   ],
   "metadata": {
    "collapsed": false
   }
  }
 ],
 "metadata": {
  "kernelspec": {
   "display_name": "Python 3",
   "language": "python",
   "name": "python3"
  },
  "language_info": {
   "codemirror_mode": {
    "name": "ipython",
    "version": 2
   },
   "file_extension": ".py",
   "mimetype": "text/x-python",
   "name": "python",
   "nbconvert_exporter": "python",
   "pygments_lexer": "ipython2",
   "version": "2.7.6"
  }
 },
 "nbformat": 4,
 "nbformat_minor": 0
}
