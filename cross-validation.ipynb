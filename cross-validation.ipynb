{
 "cells": [
  {
   "cell_type": "markdown",
   "source": [
    "# cross validation\n",
    "\n",
    "- model performance depends on how data is split\n",
    "\n",
    "## cross validation basics\n",
    "\n",
    "- split data into five groups (folds)\n",
    "- use each fold once as test data against the remaining four folds as training data\n",
    "- the computed metric from each split of fold testing\n",
    "- 5 folds = 5-fold CV\n",
    "- 10 folds = 10-fold CV\n",
    "- k folds = k-fold CV\n",
    "\n",
    "5 fold photo here\n",
    "---\n",
    "## cross-validation for r-squared"
   ],
   "metadata": {
    "collapsed": false
   }
  },
  {
   "cell_type": "code",
   "execution_count": null,
   "outputs": [],
   "source": [
    "from sklearn.linear_model import LinearRegression\n",
    "\n",
    "# sales_df already split into X and y\n",
    "\n",
    "# Import the necessary modules\n",
    "from sklearn.model_selection import cross_val_score, KFold\n",
    "\n",
    "# Create a KFold object\n",
    "kf = KFold(n_splits=6, shuffle=True, random_state=5)\n",
    "\n",
    "reg = LinearRegression()\n",
    "\n",
    "# Compute 6-fold cross-validation scores\n",
    "cv_scores = cross_val_score(reg, X, y, cv=kf)\n",
    "\n",
    "# Print scores\n",
    "print(cv_scores)  # [0.74451678 0.77241887 0.76842114 0.7410406  0.75170022 0.74406484]"
   ],
   "metadata": {
    "collapsed": false
   }
  },
  {
   "cell_type": "markdown",
   "source": [
    "## cross-validation metrics"
   ],
   "metadata": {
    "collapsed": false
   }
  },
  {
   "cell_type": "code",
   "execution_count": null,
   "outputs": [],
   "source": [
    "import numpy as np\n",
    "\n",
    "# Print the mean\n",
    "print(np.mean(cv_scores)) #0.7536937416666666\n",
    "\n",
    "# Print the standard deviation\n",
    "print(np.std(cv_scores)) #0.012305386274436092\n",
    "\n",
    "# Print the 95% confidence interval\n",
    "print(np.quantile(cv_scores, [0.025, 0.975])) #[0.74141863 0.77191915]"
   ],
   "metadata": {
    "collapsed": false
   }
  }
 ],
 "metadata": {
  "kernelspec": {
   "display_name": "Python 3",
   "language": "python",
   "name": "python3"
  },
  "language_info": {
   "codemirror_mode": {
    "name": "ipython",
    "version": 2
   },
   "file_extension": ".py",
   "mimetype": "text/x-python",
   "name": "python",
   "nbconvert_exporter": "python",
   "pygments_lexer": "ipython2",
   "version": "2.7.6"
  }
 },
 "nbformat": 4,
 "nbformat_minor": 0
}
